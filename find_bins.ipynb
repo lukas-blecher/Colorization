{
 "cells": [
  {
   "cell_type": "code",
   "execution_count": 1,
   "metadata": {},
   "outputs": [],
   "source": [
    "import torch\n",
    "import torch.nn as nn\n",
    "import torch.optim as optim\n",
    "import os\n",
    "import numpy as np\n",
    "from itertools import count\n",
    "from models.unet import unet\n",
    "from settings import s\n",
    "import time\n",
    "import torchvision.transforms as transforms\n",
    "import torchvision.datasets as datasets\n",
    "from torch.utils.data import dataloader\n",
    "import json\n",
    "from skimage import color\n",
    "import matplotlib.pyplot as plt\n",
    "from matplotlib import path\n",
    "from color_discretizer import *"
   ]
  },
  {
   "cell_type": "code",
   "execution_count": 3,
   "metadata": {},
   "outputs": [],
   "source": [
    "im=plt.imread('places-small/Places365_val_00000417.jpg')/255\n",
    "im = trainset.data[12]/255\n",
    "lab=color.rgb2yuv(im)\n",
    "L=lab[:,:,:1]\n",
    "Lten=torch.from_numpy(L.transpose((2,0,1))).unsqueeze(0)\n",
    "abten=torch.from_numpy(lab[:,:,1:]).unsqueeze(0)"
   ]
  },
  {
   "cell_type": "code",
   "execution_count": 2,
   "metadata": {},
   "outputs": [
    {
     "name": "stdout",
     "output_type": "stream",
     "text": [
      "Files already downloaded and verified\n"
     ]
    }
   ],
   "source": [
    "trainset = datasets.CIFAR10(root='./cifar-10', train=True,\n",
    "                                    download=True, transform=transforms.ToTensor())"
   ]
  },
  {
   "cell_type": "code",
   "execution_count": 5,
   "metadata": {},
   "outputs": [],
   "source": [
    "AB=[]"
   ]
  },
  {
   "cell_type": "code",
   "execution_count": 6,
   "metadata": {},
   "outputs": [
    {
     "name": "stderr",
     "output_type": "stream",
     "text": [
      "100%|████████████████████████████████████████████████████████████████████████████████| 499/499 [00:29<00:00, 16.94it/s]\n"
     ]
    }
   ],
   "source": [
    "from tqdm import tqdm\n",
    "#histogram for color rarity\n",
    "#hist=dict(enumerate(np.zeros(len(bins))))\n",
    "for i in tqdm(range(1,500)):\n",
    "    #image=trainloader.dataset.data[i]\n",
    "    try:\n",
    "        image=plt.imread('places-test/Places365_val_%08d.jpg'%i)/255\n",
    "        #image=trainset.data[i]/255\n",
    "    except FileNotFoundError:\n",
    "        continue\n",
    "    labim=color.rgb2lab(image)\n",
    "    AB.extend(labim[:,:,1:].reshape(-1,2).tolist())\n",
    "    #used_bins=dist_mat(bins,labim[:,:,1:].reshape(-1,2)).argmin(0)\n",
    "    #for j in range(len(used_bins)):\n",
    "    #    hist[used_bins[j]]+=1\n"
   ]
  },
  {
   "cell_type": "code",
   "execution_count": 7,
   "metadata": {},
   "outputs": [
    {
     "name": "stderr",
     "output_type": "stream",
     "text": [
      "100%|██████████████████████████████████████████████████████████████████████████| 20000/20000 [00:15<00:00, 1329.71it/s]\n"
     ]
    }
   ],
   "source": [
    "for i in tqdm(range(20000)):\n",
    "    #image=trainloader.dataset.data[i]\n",
    "    try:\n",
    "        #image=plt.imread('places-test/Places365_val_%08d.jpg'%i)/255\n",
    "        image=trainset.data[i]/255\n",
    "    except FileNotFoundError:\n",
    "        continue\n",
    "    labim=color.rgb2lab(image)\n",
    "    AB.extend(labim[:,:,1:].reshape(-1,2).tolist())\n",
    "    #used_bins=dist_mat(bins,labim[:,:,1:].reshape(-1,2)).argmin(0)\n",
    "    #for j in range(len(used_b"
   ]
  },
  {
   "cell_type": "code",
   "execution_count": 8,
   "metadata": {},
   "outputs": [],
   "source": [
    "ab=np.array(AB)"
   ]
  },
  {
   "cell_type": "code",
   "execution_count": 9,
   "metadata": {},
   "outputs": [
    {
     "data": {
      "text/plain": [
       "(53051392, 2)"
      ]
     },
     "execution_count": 9,
     "metadata": {},
     "output_type": "execute_result"
    }
   ],
   "source": [
    "ab.shape"
   ]
  },
  {
   "cell_type": "code",
   "execution_count": 10,
   "metadata": {},
   "outputs": [],
   "source": [
    "bincount=22\n",
    "H,xe,ye=np.histogram2d(ab[:,0],ab[:,1],bincount)"
   ]
  },
  {
   "cell_type": "code",
   "execution_count": 11,
   "metadata": {},
   "outputs": [
    {
     "name": "stderr",
     "output_type": "stream",
     "text": [
      "C:\\Users\\user\\AppData\\Local\\Continuum\\anaconda3\\lib\\site-packages\\ipykernel_launcher.py:1: RuntimeWarning: divide by zero encountered in log\n",
      "  \"\"\"Entry point for launching an IPython kernel.\n"
     ]
    },
    {
     "data": {
      "text/plain": [
       "<matplotlib.collections.PathCollection at 0x1bade281860>"
      ]
     },
     "execution_count": 11,
     "metadata": {},
     "output_type": "execute_result"
    },
    {
     "data": {
      "image/png": "[encoded data removed]",
      "text/plain": [
       "<Figure size 432x288 with 1 Axes>"
      ]
     },
     "metadata": {
      "needs_background": "light"
     },
     "output_type": "display_data"
    }
   ],
   "source": [
    "plt.imshow(np.rot90(np.log(H)),extent=(xe.min(),xe.max(),ye.min(),ye.max()),cmap='hot')\n",
    "plt.scatter(*ab[np.random.permutation(len(ab))][:6000].T,s=1)\n"
   ]
  },
  {
   "cell_type": "code",
   "execution_count": 53,
   "metadata": {},
   "outputs": [],
   "source": [
    "numbin=150\n",
    "Hpr=np.zeros_like(H)\n",
    "thres=np.sort(H.flatten())[::-1][numbin]\n",
    "Hpr[H>thres]=H[H>thres]"
   ]
  },
  {
   "cell_type": "code",
   "execution_count": 54,
   "metadata": {},
   "outputs": [
    {
     "name": "stderr",
     "output_type": "stream",
     "text": [
      "C:\\Users\\user\\AppData\\Local\\Continuum\\anaconda3\\lib\\site-packages\\ipykernel_launcher.py:1: RuntimeWarning: divide by zero encountered in log\n",
      "  \"\"\"Entry point for launching an IPython kernel.\n"
     ]
    },
    {
     "data": {
      "text/plain": [
       "<matplotlib.collections.PathCollection at 0x1b891698cf8>"
      ]
     },
     "execution_count": 54,
     "metadata": {},
     "output_type": "execute_result"
    },
    {
     "data": {
      "image/png": "[encoded data removed]",
      "text/plain": [
       "<Figure size 432x288 with 1 Axes>"
      ]
     },
     "metadata": {
      "needs_background": "light"
     },
     "output_type": "display_data"
    }
   ],
   "source": [
    "plt.imshow(np.rot90(np.log(Hpr)),extent=(xe.min(),xe.max(),ye.min(),ye.max()),cmap='hot')\n",
    "plt.scatter(*ab[np.random.permutation(len(ab))][:6000].T,s=1)\n"
   ]
  },
  {
   "cell_type": "code",
   "execution_count": 55,
   "metadata": {},
   "outputs": [
    {
     "data": {
      "text/plain": [
       "array([8.24422678, 9.19706466])"
      ]
     },
     "execution_count": 55,
     "metadata": {},
     "output_type": "execute_result"
    }
   ],
   "source": [
    "binsize=np.array([np.gradient(xe).mean(),np.gradient(ye).mean()])\n",
    "binsize"
   ]
  },
  {
   "cell_type": "code",
   "execution_count": 56,
   "metadata": {},
   "outputs": [],
   "source": [
    "def ind2ab(ind):\n",
    "    x0=np.array([xe[0],ye[0]])\n",
    "    return x0+ind*binsize#+binsize/2"
   ]
  },
  {
   "cell_type": "code",
   "execution_count": 57,
   "metadata": {},
   "outputs": [
    {
     "name": "stderr",
     "output_type": "stream",
     "text": [
      "C:\\Users\\user\\AppData\\Local\\Continuum\\anaconda3\\lib\\site-packages\\ipykernel_launcher.py:2: FutureWarning: arrays to stack must be passed as a \"sequence\" type such as list or tuple. Support for non-sequence iterables such as generators is deprecated as of NumPy 1.16 and will raise an error in the future.\n",
      "  \n"
     ]
    }
   ],
   "source": [
    "x=np.arange(0,bincount)\n",
    "coord=np.vstack(map(np.ravel, np.meshgrid(x,x))).T"
   ]
  },
  {
   "cell_type": "code",
   "execution_count": 59,
   "metadata": {},
   "outputs": [],
   "source": [
    "Habfull=ind2ab(coord).reshape(bincount,bincount,2)\n",
    "Hab=np.zeros_like(Habfull)\n",
    "Hab[H>thres]=Habfull[H>thres]\n",
    "bins=Hab[Hab!=np.zeros(2)].reshape(-1,2)"
   ]
  },
  {
   "cell_type": "code",
   "execution_count": 60,
   "metadata": {},
   "outputs": [],
   "source": [
    "torch.save(torch.from_numpy(bins),'resources/lab_bins.pt')"
   ]
  },
  {
   "cell_type": "code",
   "execution_count": 61,
   "metadata": {},
   "outputs": [],
   "source": [
    "vflag=H>thres\n",
    "np.save('resources/labhistogram.npy',H[vflag])"
   ]
  },
  {
   "cell_type": "code",
   "execution_count": 62,
   "metadata": {},
   "outputs": [
    {
     "data": {
      "text/plain": [
       "((22, 22), (22,), (22, 22))"
      ]
     },
     "execution_count": 62,
     "metadata": {},
     "output_type": "execute_result"
    }
   ],
   "source": [
    "H.shape,x.shape,vflag.shape"
   ]
  },
  {
   "cell_type": "code",
   "execution_count": 77,
   "metadata": {},
   "outputs": [
    {
     "data": {
      "image/png": "[encoded data removed]",
      "text/plain": [
       "<Figure size 432x432 with 1 Axes>"
      ]
     },
     "metadata": {
      "needs_background": "light"
     },
     "output_type": "display_data"
    }
   ],
   "source": [
    "from skimage.transform import pyramid_expand\n",
    "plt.figure(figsize=(6,6))\n",
    "L=np.ones((len(x),len(x),1))*50\n",
    "labspace=np.concatenate((L,Hab),axis=2)#.transpose(2,1,0)\n",
    "\n",
    "labspace_w=np.ones_like(labspace)*np.array([100,0,0]).reshape(1,1,3)\n",
    "labspace_w[vflag.reshape(len(x),len(x))]=labspace[vflag.reshape(len(x),len(x))]\n",
    "rgbrep=color.lab2rgb(labspace_w)\n",
    "#rgbrep=np.flipud(rgbrep)\n",
    "#rgbrep=np.rot90(rgbrep,-1);rgbrep=np.fliplr(rgbrep)\n",
    "#rgbrep=color.lab2rgb(pyramid_expand(labspace_w,(),0,0))\n",
    "#rgbrep[rgbrep==np.zeros(3)]=np.ones_like(np.count_nonzero(rgbrep==np.zeros(3)))\n",
    "plt.imshow(rgbrep,extent=(xe.min(),xe.max(),ye.min(),ye.max()))\n",
    "#plt.imshow(rgbrep,extent=[-labspace.shape[1]*binsize/2, labspace.shape[1]*binsize/2, -labspace.shape[0]*binsize/2, labspace.shape[0]*binsize/2 ])\n",
    "#plt.plot(labspecfromxyz[:,1]+127,127+labspecfromxyz[:,2],color='k',lw=1)\n",
    "#plt.plot(labspec[:,1],-labspec[:,2],color='k',lw=1)\n",
    "plt.axis('equal')\n",
    "#plt.gca().grid(which='minor', color='w', linestyle='-', linewidth=2)\n",
    "plt.xlabel('a')\n",
    "plt.ylabel('b')\n",
    "plt.title('Bin colors in ab-space $(L=%i)$'%L.flatten()[0])\n",
    "#plt.savefig('figures/labgamut-bins.pdf')\n",
    "bins=labspace[vflag.reshape(len(x),len(x))][:,1:]\n",
    "for i in range(len(bins)):\n",
    "    ...#plt.text(bins[i][0],bins[i][1],i)\n",
    "#plt.scatter(*bins.T)\n",
    "plt.savefig('figures/bincolors.pdf')\n",
    "plt.show()"
   ]
  },
  {
   "cell_type": "code",
   "execution_count": 100,
   "metadata": {},
   "outputs": [],
   "source": [
    "def distanceSquaredMatrix(A,B):\n",
    "    return np.sum(np.square(A[:,None]-B),axis=2)\n",
    "def K(X1,X2,sig=5):\n",
    "    dist=distanceSquaredMatrix(X1,X2)\n",
    "    kernel=np.zeros(dist.shape)\n",
    "    cutoff=2*sig*np.log(10) #0 when kernel function would be smaller than 0.01\n",
    "    kernel[dist<cutoff]=np.exp(-dist[dist<cutoff]/(2*sig))\n",
    "    return kernel"
   ]
  },
  {
   "cell_type": "code",
   "execution_count": 105,
   "metadata": {},
   "outputs": [],
   "source": [
    "soft=(K(bins,bins,30))"
   ]
  },
  {
   "cell_type": "code",
   "execution_count": 109,
   "metadata": {},
   "outputs": [],
   "source": [
    "torch.save(torch.from_numpy(soft),'resources/smooth_onehot150.pt')"
   ]
  },
  {
   "cell_type": "code",
   "execution_count": null,
   "metadata": {},
   "outputs": [],
   "source": []
  }
 ],
 "metadata": {
  "kernelspec": {
   "display_name": "Python 3",
   "language": "python",
   "name": "python3"
  },
  "language_info": {
   "codemirror_mode": {
    "name": "ipython",
    "version": 3
   },
   "file_extension": ".py",
   "mimetype": "text/x-python",
   "name": "python",
   "nbconvert_exporter": "python",
   "pygments_lexer": "ipython3",
   "version": "3.7.3"
  }
 },
 "nbformat": 4,
 "nbformat_minor": 2
}
