{
 "cells": [
  {
   "cell_type": "code",
   "execution_count": 3,
   "metadata": {},
   "outputs": [],
   "source": [
    "from functions import *\n",
    "import numpy as np\n",
    "import matplotlib.pyplot as plt\n",
    "from PIL import Image\n",
    "from tqdm import tqdm_notebook as tqdm\n",
    "from skimage import color"
   ]
  },
  {
   "cell_type": "code",
   "execution_count": 6,
   "metadata": {
    "scrolled": false
   },
   "outputs": [
    {
     "name": "stdout",
     "output_type": "stream",
     "text": [
      "Files already downloaded and verified\n"
     ]
    },
    {
     "name": "stderr",
     "output_type": "stream",
     "text": [
      "\r",
      "  0%|                                                                | 245760/2640397119 [00:20<15:26:37, 47487.17it/s]"
     ]
    }
   ],
   "source": [
    "trainset=load_trainset('../stl-10/')"
   ]
  },
  {
   "cell_type": "code",
   "execution_count": 33,
   "metadata": {},
   "outputs": [
    {
     "data": {
      "application/vnd.jupyter.widget-view+json": {
       "model_id": "214c2c53890047208891b6f6da02d8f8",
       "version_major": 2,
       "version_minor": 0
      },
      "text/plain": [
       "HBox(children=(IntProgress(value=0, max=8000), HTML(value='')))"
      ]
     },
     "metadata": {},
     "output_type": "display_data"
    }
   ],
   "source": [
    "for i in tqdm(range(len(trainset.data))):\n",
    "    Image.fromarray(trainset.data[i]).save('stl-10/test/stl_%06d.png'%i)"
   ]
  },
  {
   "cell_type": "code",
   "execution_count": 5,
   "metadata": {},
   "outputs": [],
   "source": [
    "trainset=STL('stl-10/')"
   ]
  },
  {
   "cell_type": "code",
   "execution_count": 28,
   "metadata": {},
   "outputs": [],
   "source": [
    "AB=[]"
   ]
  },
  {
   "cell_type": "code",
   "execution_count": 30,
   "metadata": {},
   "outputs": [
    {
     "data": {
      "application/vnd.jupyter.widget-view+json": {
       "model_id": "b1cb682ce58042ad8aeb6c50e9c91797",
       "version_major": 2,
       "version_minor": 0
      },
      "text/plain": [
       "HBox(children=(IntProgress(value=0, max=105000), HTML(value='')))"
      ]
     },
     "metadata": {},
     "output_type": "display_data"
    },
    {
     "ename": "KeyboardInterrupt",
     "evalue": "",
     "output_type": "error",
     "traceback": [
      "\u001b[1;31m---------------------------------------------------------------------------\u001b[0m",
      "\u001b[1;31mKeyboardInterrupt\u001b[0m                         Traceback (most recent call last)",
      "\u001b[1;32m<ipython-input-30-d39ec0be74f9>\u001b[0m in \u001b[0;36m<module>\u001b[1;34m\u001b[0m\n\u001b[0;32m      1\u001b[0m \u001b[0morder\u001b[0m\u001b[1;33m=\u001b[0m\u001b[0mnp\u001b[0m\u001b[1;33m.\u001b[0m\u001b[0mrandom\u001b[0m\u001b[1;33m.\u001b[0m\u001b[0mpermutation\u001b[0m\u001b[1;33m(\u001b[0m\u001b[0mlen\u001b[0m\u001b[1;33m(\u001b[0m\u001b[0mtrainset\u001b[0m\u001b[1;33m)\u001b[0m\u001b[1;33m)\u001b[0m\u001b[1;33m\u001b[0m\u001b[1;33m\u001b[0m\u001b[0m\n\u001b[0;32m      2\u001b[0m \u001b[1;32mfor\u001b[0m \u001b[0mi\u001b[0m \u001b[1;32min\u001b[0m \u001b[0mtqdm\u001b[0m\u001b[1;33m(\u001b[0m\u001b[0mrange\u001b[0m\u001b[1;33m(\u001b[0m\u001b[0mlen\u001b[0m\u001b[1;33m(\u001b[0m\u001b[0mtrainset\u001b[0m\u001b[1;33m)\u001b[0m\u001b[1;33m)\u001b[0m\u001b[1;33m)\u001b[0m\u001b[1;33m:\u001b[0m\u001b[1;33m\u001b[0m\u001b[1;33m\u001b[0m\u001b[0m\n\u001b[1;32m----> 3\u001b[1;33m     \u001b[0mAB\u001b[0m\u001b[1;33m.\u001b[0m\u001b[0mextend\u001b[0m\u001b[1;33m(\u001b[0m\u001b[0mab2bins\u001b[0m\u001b[1;33m(\u001b[0m\u001b[0mcolor\u001b[0m\u001b[1;33m.\u001b[0m\u001b[0mrgb2lab\u001b[0m\u001b[1;33m(\u001b[0m\u001b[0mtrainset\u001b[0m\u001b[1;33m[\u001b[0m\u001b[0morder\u001b[0m\u001b[1;33m[\u001b[0m\u001b[0mi\u001b[0m\u001b[1;33m]\u001b[0m\u001b[1;33m]\u001b[0m\u001b[1;33m.\u001b[0m\u001b[0mnumpy\u001b[0m\u001b[1;33m(\u001b[0m\u001b[1;33m)\u001b[0m\u001b[1;33m.\u001b[0m\u001b[0mtranspose\u001b[0m\u001b[1;33m(\u001b[0m\u001b[1;33m(\u001b[0m\u001b[1;36m1\u001b[0m\u001b[1;33m,\u001b[0m\u001b[1;36m2\u001b[0m\u001b[1;33m,\u001b[0m\u001b[1;36m0\u001b[0m\u001b[1;33m)\u001b[0m\u001b[1;33m)\u001b[0m\u001b[1;33m)\u001b[0m\u001b[1;33m[\u001b[0m\u001b[1;33m:\u001b[0m\u001b[1;33m,\u001b[0m\u001b[1;33m:\u001b[0m\u001b[1;33m,\u001b[0m\u001b[1;36m1\u001b[0m\u001b[1;33m:\u001b[0m\u001b[1;33m]\u001b[0m\u001b[1;33m)\u001b[0m\u001b[1;33m.\u001b[0m\u001b[0mflatten\u001b[0m\u001b[1;33m(\u001b[0m\u001b[1;33m)\u001b[0m\u001b[1;33m.\u001b[0m\u001b[0mtolist\u001b[0m\u001b[1;33m(\u001b[0m\u001b[1;33m)\u001b[0m\u001b[1;33m)\u001b[0m\u001b[1;33m\u001b[0m\u001b[1;33m\u001b[0m\u001b[0m\n\u001b[0m",
      "\u001b[1;32m~\\Desktop\\6.Semester\\Colorization\\functions.py\u001b[0m in \u001b[0;36mab2bins\u001b[1;34m(image, bins)\u001b[0m\n\u001b[0;32m    227\u001b[0m         \u001b[0mimage\u001b[0m\u001b[1;33m=\u001b[0m\u001b[0mnp\u001b[0m\u001b[1;33m.\u001b[0m\u001b[0marray\u001b[0m\u001b[1;33m(\u001b[0m\u001b[0mimage\u001b[0m\u001b[1;33m)\u001b[0m\u001b[1;33m\u001b[0m\u001b[1;33m\u001b[0m\u001b[0m\n\u001b[0;32m    228\u001b[0m         \u001b[0mbs\u001b[0m\u001b[1;33m=\u001b[0m\u001b[0mnbins\u001b[0m \u001b[1;32mif\u001b[0m \u001b[0mbins\u001b[0m \u001b[1;32mis\u001b[0m \u001b[1;32mNone\u001b[0m \u001b[1;32melse\u001b[0m \u001b[0mbins\u001b[0m\u001b[1;33m\u001b[0m\u001b[1;33m\u001b[0m\u001b[0m\n\u001b[1;32m--> 229\u001b[1;33m         \u001b[0mbin_rep\u001b[0m \u001b[1;33m=\u001b[0m \u001b[0mdist_mat\u001b[0m\u001b[1;33m(\u001b[0m\u001b[0mbs\u001b[0m\u001b[1;33m[\u001b[0m\u001b[1;36m0\u001b[0m\u001b[1;33m]\u001b[0m\u001b[1;33m,\u001b[0m\u001b[0mimage\u001b[0m\u001b[1;33m.\u001b[0m\u001b[0mreshape\u001b[0m\u001b[1;33m(\u001b[0m\u001b[1;33m-\u001b[0m\u001b[1;36m1\u001b[0m\u001b[1;33m,\u001b[0m\u001b[1;36m2\u001b[0m\u001b[1;33m)\u001b[0m\u001b[1;33m)\u001b[0m\u001b[1;33m.\u001b[0m\u001b[0margmin\u001b[0m\u001b[1;33m(\u001b[0m\u001b[1;36m0\u001b[0m\u001b[1;33m)\u001b[0m\u001b[1;33m.\u001b[0m\u001b[0mreshape\u001b[0m\u001b[1;33m(\u001b[0m\u001b[0mmbsize\u001b[0m\u001b[1;33m,\u001b[0m\u001b[0mim_size\u001b[0m\u001b[1;33m,\u001b[0m\u001b[1;33m-\u001b[0m\u001b[1;36m1\u001b[0m\u001b[1;33m,\u001b[0m\u001b[1;36m1\u001b[0m\u001b[1;33m)\u001b[0m\u001b[1;33m\u001b[0m\u001b[1;33m\u001b[0m\u001b[0m\n\u001b[0m\u001b[0;32m    230\u001b[0m         \u001b[1;32mif\u001b[0m \u001b[0mlen\u001b[0m\u001b[1;33m(\u001b[0m\u001b[0mshape\u001b[0m\u001b[1;33m)\u001b[0m\u001b[1;33m==\u001b[0m\u001b[1;36m4\u001b[0m\u001b[1;33m:\u001b[0m\u001b[1;33m\u001b[0m\u001b[1;33m\u001b[0m\u001b[0m\n\u001b[0;32m    231\u001b[0m             \u001b[1;32mreturn\u001b[0m \u001b[0mbin_rep\u001b[0m\u001b[1;33m\u001b[0m\u001b[1;33m\u001b[0m\u001b[0m\n",
      "\u001b[1;32m~\\Desktop\\6.Semester\\Colorization\\functions.py\u001b[0m in \u001b[0;36mdist_mat\u001b[1;34m(X, Y)\u001b[0m\n\u001b[0;32m    204\u001b[0m \u001b[1;31m#distance matrix\u001b[0m\u001b[1;33m\u001b[0m\u001b[1;33m\u001b[0m\u001b[1;33m\u001b[0m\u001b[0m\n\u001b[0;32m    205\u001b[0m \u001b[1;32mdef\u001b[0m \u001b[0mdist_mat\u001b[0m\u001b[1;33m(\u001b[0m\u001b[0mX\u001b[0m\u001b[1;33m,\u001b[0m\u001b[0mY\u001b[0m\u001b[1;33m)\u001b[0m\u001b[1;33m:\u001b[0m\u001b[1;33m\u001b[0m\u001b[1;33m\u001b[0m\u001b[0m\n\u001b[1;32m--> 206\u001b[1;33m     \u001b[1;32mreturn\u001b[0m \u001b[1;33m-\u001b[0m\u001b[1;36m2\u001b[0m \u001b[1;33m*\u001b[0m \u001b[0mX\u001b[0m\u001b[1;33m@\u001b[0m\u001b[0mY\u001b[0m\u001b[1;33m.\u001b[0m\u001b[0mT\u001b[0m \u001b[1;33m+\u001b[0m \u001b[0mnp\u001b[0m\u001b[1;33m.\u001b[0m\u001b[0msum\u001b[0m\u001b[1;33m(\u001b[0m\u001b[0mY\u001b[0m\u001b[1;33m**\u001b[0m\u001b[1;36m2\u001b[0m\u001b[1;33m,\u001b[0m \u001b[0maxis\u001b[0m\u001b[1;33m=\u001b[0m\u001b[1;36m1\u001b[0m\u001b[1;33m)\u001b[0m \u001b[1;33m+\u001b[0m \u001b[0mnp\u001b[0m\u001b[1;33m.\u001b[0m\u001b[0msum\u001b[0m\u001b[1;33m(\u001b[0m\u001b[0mX\u001b[0m\u001b[1;33m**\u001b[0m\u001b[1;36m2\u001b[0m\u001b[1;33m,\u001b[0m \u001b[0maxis\u001b[0m\u001b[1;33m=\u001b[0m\u001b[1;36m1\u001b[0m\u001b[1;33m)\u001b[0m\u001b[1;33m[\u001b[0m\u001b[1;33m:\u001b[0m\u001b[1;33m,\u001b[0m \u001b[1;32mNone\u001b[0m\u001b[1;33m]\u001b[0m\u001b[1;33m\u001b[0m\u001b[1;33m\u001b[0m\u001b[0m\n\u001b[0m\u001b[0;32m    207\u001b[0m \u001b[1;32mdef\u001b[0m \u001b[0mtorch_dist_mat\u001b[0m\u001b[1;33m(\u001b[0m\u001b[0mX\u001b[0m\u001b[1;33m,\u001b[0m\u001b[0mY\u001b[0m\u001b[1;33m)\u001b[0m\u001b[1;33m:\u001b[0m\u001b[1;33m\u001b[0m\u001b[1;33m\u001b[0m\u001b[0m\n\u001b[0;32m    208\u001b[0m     \u001b[1;31m#print(X.shape,Y.shape,torch.matmul(X, torch.transpose(Y,1,2).double()).shape)\u001b[0m\u001b[1;33m\u001b[0m\u001b[1;33m\u001b[0m\u001b[1;33m\u001b[0m\u001b[0m\n",
      "\u001b[1;31mKeyboardInterrupt\u001b[0m: "
     ]
    }
   ],
   "source": [
    "order=np.random.permutation(len(trainset))\n",
    "for i in tqdm(range(len(trainset))):\n",
    "    AB.extend(ab2bins(color.rgb2lab(trainset[order[i]].numpy().transpose((1,2,0)))[:,:,1:]).flatten().tolist())"
   ]
  },
  {
   "cell_type": "code",
   "execution_count": 31,
   "metadata": {},
   "outputs": [
    {
     "data": {
      "text/plain": [
       "6064128"
      ]
     },
     "execution_count": 31,
     "metadata": {},
     "output_type": "execute_result"
    }
   ],
   "source": [
    "len(AB)"
   ]
  },
  {
   "cell_type": "code",
   "execution_count": 35,
   "metadata": {},
   "outputs": [],
   "source": [
    "bins=nbins.copy()\n"
   ]
  },
  {
   "cell_type": "code",
   "execution_count": 64,
   "metadata": {},
   "outputs": [
    {
     "data": {
      "text/plain": [
       "array([[[0.54339633, 0.33479347, 0.94912913]]])"
      ]
     },
     "execution_count": 64,
     "metadata": {},
     "output_type": "execute_result"
    }
   ],
   "source": []
  },
  {
   "cell_type": "code",
   "execution_count": 77,
   "metadata": {},
   "outputs": [
    {
     "data": {
      "text/plain": [
       "Text(0, 0.5, 'b')"
      ]
     },
     "execution_count": 77,
     "metadata": {},
     "output_type": "execute_result"
    },
    {
     "data": {
      "image/png": "[encoded data removed]",
      "text/plain": [
       "<Figure size 504x504 with 1 Axes>"
      ]
     },
     "metadata": {
      "needs_background": "light"
     },
     "output_type": "display_data"
    }
   ],
   "source": [
    "plt.figure(figsize=(7,7))\n",
    "for i in range(len(bins[0])):\n",
    "    c=color.lab2rgb(np.array([50,*bins[0,i]])[None,None,:])[0,0]\n",
    "    plt.scatter(*bins[0,i].T,marker='s',s=600,color=c)\n",
    "    plt.text(*bins[0,i],i,ha='center',va='center')\n",
    "plt.axis('equal')\n",
    "plt.xlabel('a')\n",
    "plt.ylabel('b')\n",
    "#plt.axes('equal')"
   ]
  },
  {
   "cell_type": "code",
   "execution_count": 80,
   "metadata": {},
   "outputs": [
    {
     "data": {
      "text/plain": [
       "array([ 69,  15,   5,   6,  39,  14,  38,  13,  26,  25,  70,  68, 100,\n",
       "        84,  54,  24,  53,  36,  52,   4,  12,  35,  51,  37,  50,  49,\n",
       "       101,  23,  16,  66,  85,  40,  65,  67,  83,  34,  55,  22,  48,\n",
       "        99,  64,  27, 115,  86,  98,  81,   0, 102,  71,  41,  63,  80,\n",
       "        97,  82,   3,  28, 114,  11,  87,  47, 148, 116,  79,   2,   7,\n",
       "       127,  96,  72, 126,   1,  62,  33, 147, 113,  21,  10,  42,  56,\n",
       "       144,  17, 117, 143, 103,  88,   8, 125,  57,  95, 112, 138, 134,\n",
       "        78, 142, 149, 139, 133,  29, 145, 140,  20,  46,   9, 132, 124,\n",
       "        32, 137,  73, 131,  61, 146, 111, 123,  94,  18,  89, 136,  19,\n",
       "        77,  43, 110, 130, 141, 122,  31,  45,  58,  30, 104,  93, 129,\n",
       "        74, 135,  60, 109, 118, 121,  44,  90, 105, 106,  59, 128,  76,\n",
       "       120, 119, 108,  92, 107,  75,  91], dtype=int64)"
      ]
     },
     "execution_count": 80,
     "metadata": {},
     "output_type": "execute_result"
    }
   ],
   "source": [
    "weights.argsort()[::-1]"
   ]
  },
  {
   "cell_type": "code",
   "execution_count": 143,
   "metadata": {},
   "outputs": [],
   "source": [
    "w=torch.load('resources/class-weights-lab150-stl.pt')#[145]"
   ]
  },
  {
   "cell_type": "code",
   "execution_count": 191,
   "metadata": {},
   "outputs": [],
   "source": [
    "w[92]=.11"
   ]
  },
  {
   "cell_type": "code",
   "execution_count": 171,
   "metadata": {},
   "outputs": [
    {
     "data": {
      "text/plain": [
       "(76, 0.3589464371506111)"
      ]
     },
     "execution_count": 171,
     "metadata": {},
     "output_type": "execute_result"
    }
   ],
   "source": [
    "rosa=np.array([229,212,229])[None,None,:]/255\n",
    "rlab=color.rgb2lab(rosa)\n",
    "bi=ab2bins(rlab[:,:,1:]).item()\n",
    "bi,w[bi]"
   ]
  },
  {
   "cell_type": "code",
   "execution_count": 184,
   "metadata": {},
   "outputs": [
    {
     "data": {
      "text/plain": [
       "array([ 1.61926761,  2.85479488,  5.60069323,  9.4040081 , 17.98226963,\n",
       "       31.34160101])"
      ]
     },
     "execution_count": 184,
     "metadata": {},
     "output_type": "execute_result"
    }
   ],
   "source": [
    "w[np.arange(110,116)]#=w[np.arange(62,69)]**.96"
   ]
  },
  {
   "cell_type": "code",
   "execution_count": 1,
   "metadata": {},
   "outputs": [],
   "source": [
    "from models.color_unet import color_unet"
   ]
  },
  {
   "cell_type": "code",
   "execution_count": 4,
   "metadata": {},
   "outputs": [
    {
     "data": {
      "text/plain": [
       "IncompatibleKeys(missing_keys=[], unexpected_keys=[])"
      ]
     },
     "execution_count": 4,
     "metadata": {},
     "output_type": "execute_result"
    }
   ],
   "source": [
    "cu=color_unet(True,0,150)\n",
    "cu.load_state_dict(torch.load('weights/stllabclass7.pth'))"
   ]
  },
  {
   "cell_type": "code",
   "execution_count": 24,
   "metadata": {},
   "outputs": [],
   "source": [
    "out=cu(next(iter(trainset))[None,:1,...]).detach().numpy()"
   ]
  },
  {
   "cell_type": "code",
   "execution_count": 46,
   "metadata": {},
   "outputs": [
    {
     "data": {
      "text/plain": [
       "[<matplotlib.lines.Line2D at 0x1b2c1c28630>,\n",
       " <matplotlib.lines.Line2D at 0x1b2c1c28780>,\n",
       " <matplotlib.lines.Line2D at 0x1b2c1c288d0>,\n",
       " <matplotlib.lines.Line2D at 0x1b2c1c28a20>,\n",
       " <matplotlib.lines.Line2D at 0x1b2c1c28b70>,\n",
       " <matplotlib.lines.Line2D at 0x1b2c1c28cc0>,\n",
       " <matplotlib.lines.Line2D at 0x1b2c1c28e10>,\n",
       " <matplotlib.lines.Line2D at 0x1b2c1c28f60>,\n",
       " <matplotlib.lines.Line2D at 0x1b2c1c390f0>,\n",
       " <matplotlib.lines.Line2D at 0x1b2c1c39240>,\n",
       " <matplotlib.lines.Line2D at 0x1b2c0366d30>,\n",
       " <matplotlib.lines.Line2D at 0x1b2c1c394a8>,\n",
       " <matplotlib.lines.Line2D at 0x1b2c1c395f8>,\n",
       " <matplotlib.lines.Line2D at 0x1b2c1c39748>,\n",
       " <matplotlib.lines.Line2D at 0x1b2c1c39898>,\n",
       " <matplotlib.lines.Line2D at 0x1b2c1c399e8>,\n",
       " <matplotlib.lines.Line2D at 0x1b2c1c39b38>,\n",
       " <matplotlib.lines.Line2D at 0x1b2c1c39c88>,\n",
       " <matplotlib.lines.Line2D at 0x1b2c1c39dd8>,\n",
       " <matplotlib.lines.Line2D at 0x1b2c1c39f28>,\n",
       " <matplotlib.lines.Line2D at 0x1b2c1c3d0b8>,\n",
       " <matplotlib.lines.Line2D at 0x1b2c1c3d208>,\n",
       " <matplotlib.lines.Line2D at 0x1b2c1c3d358>,\n",
       " <matplotlib.lines.Line2D at 0x1b2c1c3d4a8>,\n",
       " <matplotlib.lines.Line2D at 0x1b2c1c3d5f8>,\n",
       " <matplotlib.lines.Line2D at 0x1b2c1c3d748>,\n",
       " <matplotlib.lines.Line2D at 0x1b2c1c3d898>,\n",
       " <matplotlib.lines.Line2D at 0x1b2c1c3d9e8>,\n",
       " <matplotlib.lines.Line2D at 0x1b2c1c3db38>,\n",
       " <matplotlib.lines.Line2D at 0x1b2c1c3dc88>,\n",
       " <matplotlib.lines.Line2D at 0x1b2c1c3ddd8>,\n",
       " <matplotlib.lines.Line2D at 0x1b2c1c3df28>,\n",
       " <matplotlib.lines.Line2D at 0x1b2c1c430b8>,\n",
       " <matplotlib.lines.Line2D at 0x1b2c1c43208>,\n",
       " <matplotlib.lines.Line2D at 0x1b2c1c43358>,\n",
       " <matplotlib.lines.Line2D at 0x1b2c1c434a8>,\n",
       " <matplotlib.lines.Line2D at 0x1b2c1c435f8>,\n",
       " <matplotlib.lines.Line2D at 0x1b2c1c43748>,\n",
       " <matplotlib.lines.Line2D at 0x1b2c1c43898>,\n",
       " <matplotlib.lines.Line2D at 0x1b2c1c439e8>,\n",
       " <matplotlib.lines.Line2D at 0x1b2c1c43b38>,\n",
       " <matplotlib.lines.Line2D at 0x1b2c1c43c88>,\n",
       " <matplotlib.lines.Line2D at 0x1b2c1c43dd8>,\n",
       " <matplotlib.lines.Line2D at 0x1b2c1c43f28>,\n",
       " <matplotlib.lines.Line2D at 0x1b2c1c490b8>,\n",
       " <matplotlib.lines.Line2D at 0x1b2c1c49208>,\n",
       " <matplotlib.lines.Line2D at 0x1b2c1c49358>,\n",
       " <matplotlib.lines.Line2D at 0x1b2c1c494a8>,\n",
       " <matplotlib.lines.Line2D at 0x1b2c1c495f8>,\n",
       " <matplotlib.lines.Line2D at 0x1b2c1c49748>,\n",
       " <matplotlib.lines.Line2D at 0x1b2c1c49898>,\n",
       " <matplotlib.lines.Line2D at 0x1b2c1c499e8>,\n",
       " <matplotlib.lines.Line2D at 0x1b2c1c49b38>,\n",
       " <matplotlib.lines.Line2D at 0x1b2c1c49c88>,\n",
       " <matplotlib.lines.Line2D at 0x1b2c1c49dd8>,\n",
       " <matplotlib.lines.Line2D at 0x1b2c1c49f28>,\n",
       " <matplotlib.lines.Line2D at 0x1b2c1c530b8>,\n",
       " <matplotlib.lines.Line2D at 0x1b2c1c53208>,\n",
       " <matplotlib.lines.Line2D at 0x1b2c1c53358>,\n",
       " <matplotlib.lines.Line2D at 0x1b2c1c534a8>,\n",
       " <matplotlib.lines.Line2D at 0x1b2c1c535f8>,\n",
       " <matplotlib.lines.Line2D at 0x1b2c1c53748>,\n",
       " <matplotlib.lines.Line2D at 0x1b2c1c53898>,\n",
       " <matplotlib.lines.Line2D at 0x1b2c1c539e8>,\n",
       " <matplotlib.lines.Line2D at 0x1b2c1c53b38>,\n",
       " <matplotlib.lines.Line2D at 0x1b2c1c53c88>,\n",
       " <matplotlib.lines.Line2D at 0x1b2c1c53dd8>,\n",
       " <matplotlib.lines.Line2D at 0x1b2c1c53f28>,\n",
       " <matplotlib.lines.Line2D at 0x1b2c1c5b0b8>,\n",
       " <matplotlib.lines.Line2D at 0x1b2c1c5b208>,\n",
       " <matplotlib.lines.Line2D at 0x1b2c1c5b358>,\n",
       " <matplotlib.lines.Line2D at 0x1b2c1c5b4a8>,\n",
       " <matplotlib.lines.Line2D at 0x1b2c1c5b5f8>,\n",
       " <matplotlib.lines.Line2D at 0x1b2c1c5b748>,\n",
       " <matplotlib.lines.Line2D at 0x1b2c1c5b898>,\n",
       " <matplotlib.lines.Line2D at 0x1b2c1c5b9e8>,\n",
       " <matplotlib.lines.Line2D at 0x1b2c1c5bb38>,\n",
       " <matplotlib.lines.Line2D at 0x1b2c1c5bc88>,\n",
       " <matplotlib.lines.Line2D at 0x1b2c1c5bdd8>,\n",
       " <matplotlib.lines.Line2D at 0x1b2c1c5bf28>,\n",
       " <matplotlib.lines.Line2D at 0x1b2c1d260b8>,\n",
       " <matplotlib.lines.Line2D at 0x1b2c1d26208>,\n",
       " <matplotlib.lines.Line2D at 0x1b2c1d26358>,\n",
       " <matplotlib.lines.Line2D at 0x1b2c1d264a8>,\n",
       " <matplotlib.lines.Line2D at 0x1b2c1d265f8>,\n",
       " <matplotlib.lines.Line2D at 0x1b2c1d26748>,\n",
       " <matplotlib.lines.Line2D at 0x1b2c1d26898>,\n",
       " <matplotlib.lines.Line2D at 0x1b2c1d269e8>,\n",
       " <matplotlib.lines.Line2D at 0x1b2c1d26b38>,\n",
       " <matplotlib.lines.Line2D at 0x1b2c1d26c88>,\n",
       " <matplotlib.lines.Line2D at 0x1b2c1d26dd8>,\n",
       " <matplotlib.lines.Line2D at 0x1b2c1d26f28>,\n",
       " <matplotlib.lines.Line2D at 0x1b2c1d2c0b8>,\n",
       " <matplotlib.lines.Line2D at 0x1b2c1d2c208>,\n",
       " <matplotlib.lines.Line2D at 0x1b2c1d2c358>,\n",
       " <matplotlib.lines.Line2D at 0x1b2c1d2c4a8>]"
      ]
     },
     "execution_count": 46,
     "metadata": {},
     "output_type": "execute_result"
    },
    {
     "data": {
      "image/png": "[encoded data removed]",
      "text/plain": [
       "<Figure size 432x288 with 1 Axes>"
      ]
     },
     "metadata": {
      "needs_background": "light"
     },
     "output_type": "display_data"
    }
   ],
   "source": []
  },
  {
   "cell_type": "code",
   "execution_count": null,
   "metadata": {},
   "outputs": [],
   "source": []
  },
  {
   "cell_type": "code",
   "execution_count": 87,
   "metadata": {},
   "outputs": [],
   "source": [
    "loader=torch.utils.data.DataLoader(trainset)"
   ]
  },
  {
   "cell_type": "code",
   "execution_count": 93,
   "metadata": {},
   "outputs": [],
   "source": [
    "out=cu(next(iter(loader))[:,:1,:,:])"
   ]
  },
  {
   "cell_type": "code",
   "execution_count": 227,
   "metadata": {},
   "outputs": [
    {
     "data": {
      "application/vnd.jupyter.widget-view+json": {
       "model_id": "9c3197ed30634743a94a9dc471ee3915",
       "version_major": 2,
       "version_minor": 0
      },
      "text/plain": [
       "HBox(children=(IntProgress(value=0, max=105000), HTML(value='')))"
      ]
     },
     "metadata": {},
     "output_type": "display_data"
    }
   ],
   "source": [
    "probdist={k: 0 for k in range(150)} \n",
    "for img in tqdm(iter(loader)):\n",
    "    bis=np.bincount(ab2bins(img[:,1:,:,:].cuda()).cpu().numpy().flatten())\n",
    "    for i in np.nonzero(bis)[0]:\n",
    "        probdist[i]+=bis[i]"
   ]
  },
  {
   "attachments": {
    "image.png": {
     "image/png": "[encoded data removed]"
    }
   },
   "cell_type": "markdown",
   "metadata": {},
   "source": [
    "![image.png](attachment:image.png)"
   ]
  },
  {
   "cell_type": "code",
   "execution_count": 228,
   "metadata": {},
   "outputs": [],
   "source": [
    "lam=.5\n",
    "Q=150\n",
    "p=np.array(list(probdist.values()))\n",
    "p=p/p.sum()"
   ]
  },
  {
   "cell_type": "code",
   "execution_count": 231,
   "metadata": {},
   "outputs": [
    {
     "data": {
      "text/plain": [
       "[<matplotlib.lines.Line2D at 0x1f8b186eb38>]"
      ]
     },
     "execution_count": 231,
     "metadata": {},
     "output_type": "execute_result"
    },
    {
     "data": {
      "image/png": "[encoded data removed]",
      "text/plain": [
       "<Figure size 432x288 with 1 Axes>"
      ]
     },
     "metadata": {
      "needs_background": "light"
     },
     "output_type": "display_data"
    }
   ],
   "source": [
    "plt.plot(p)"
   ]
  },
  {
   "cell_type": "code",
   "execution_count": 232,
   "metadata": {},
   "outputs": [],
   "source": [
    "wr=1/((1-lam)*p+lam/Q)"
   ]
  },
  {
   "cell_type": "code",
   "execution_count": 246,
   "metadata": {},
   "outputs": [],
   "source": [
    "torch.save(wr+w,'resources/class-weights-lab150-stl_alt2.pt')"
   ]
  },
  {
   "cell_type": "code",
   "execution_count": 245,
   "metadata": {},
   "outputs": [
    {
     "data": {
      "text/plain": [
       "[<matplotlib.lines.Line2D at 0x1f8b221d908>]"
      ]
     },
     "execution_count": 245,
     "metadata": {},
     "output_type": "execute_result"
    },
    {
     "data": {
      "image/png": "[encoded data removed]",
      "text/plain": [
       "<Figure size 432x288 with 1 Axes>"
      ]
     },
     "metadata": {
      "needs_background": "light"
     },
     "output_type": "display_data"
    }
   ],
   "source": [
    "plt.plot(w+wr)\n",
    "#plt.plot(wr)"
   ]
  },
  {
   "cell_type": "code",
   "execution_count": 207,
   "metadata": {},
   "outputs": [
    {
     "data": {
      "text/plain": [
       "array([ 57,  58,  59,  60,  73,  74,  75,  76,  77,  79,  90,  91,  92,\n",
       "        93,  94, 105, 106, 107, 108, 109, 110, 111, 112, 119, 120, 121,\n",
       "       122, 123, 124, 125, 129, 130, 131, 132, 133, 135, 136, 137, 138,\n",
       "       139, 140, 141, 142, 143, 144, 145, 146, 147, 148, 149], dtype=int64)"
      ]
     },
     "execution_count": 207,
     "metadata": {},
     "output_type": "execute_result"
    }
   ],
   "source": [
    "np.nonzero(np.bincount(bs))[0]"
   ]
  },
  {
   "cell_type": "code",
   "execution_count": 156,
   "metadata": {},
   "outputs": [
    {
     "data": {
      "image/png": "[encoded data removed]",
      "text/plain": [
       "<Figure size 432x288 with 1 Axes>"
      ]
     },
     "metadata": {
      "needs_background": "light"
     },
     "output_type": "display_data"
    }
   ],
   "source": [
    "x=np.random.randint(0,96,2)\n",
    "x,y=x[0],x[1]\n",
    "prob=out.detach().numpy()[0,:,x,y]\n",
    "for i in range(len(bins[0])):\n",
    "    c=color.lab2rgb(np.array([50,*bins[0,i]])[None,None,:])[0,0]\n",
    "    plt.scatter(i,prob[i].T,marker='.',s=50,color=c)\n",
    "plt.title('(%i,%i), argmax = %s'%(x,y,prob.argmax()))\n",
    "    #plt.text(*bins[0,i],i,ha='center',va='center')\n",
    "plt.show()"
   ]
  },
  {
   "cell_type": "code",
   "execution_count": 106,
   "metadata": {
    "scrolled": true
   },
   "outputs": [
    {
     "data": {
      "text/plain": [
       "array([[[ -6.7878532,  -9.250008 ],\n",
       "        [ -8.355898 , -10.168919 ],\n",
       "        [ -8.576243 , -12.83814  ],\n",
       "        ...,\n",
       "        [-12.7308655,  -6.669756 ],\n",
       "        [-11.935753 ,  -6.274234 ],\n",
       "        [ -9.242294 ,  -5.4372654]],\n",
       "\n",
       "       [[ -8.431533 , -11.585441 ],\n",
       "        [ -8.649975 , -13.676817 ],\n",
       "        [ -9.067643 , -15.59267  ],\n",
       "        ...,\n",
       "        [-14.343393 ,  -7.140543 ],\n",
       "        [-13.754498 ,  -7.6505356],\n",
       "        [-11.999896 ,  -4.995872 ]],\n",
       "\n",
       "       [[ -8.845657 , -12.635601 ],\n",
       "        [ -9.588561 , -14.465086 ],\n",
       "        [-10.108742 , -15.27663  ],\n",
       "        ...,\n",
       "        [-14.578299 ,  -8.517374 ],\n",
       "        [-14.354832 ,  -8.365727 ],\n",
       "        [-12.508108 ,  -5.8514156]],\n",
       "\n",
       "       ...,\n",
       "\n",
       "       [[  4.130398 ,  -3.4699507],\n",
       "        [  4.0302315,  -2.6943994],\n",
       "        [  8.788906 ,  -7.835552 ],\n",
       "        ...,\n",
       "        [-15.09732  ,  13.676248 ],\n",
       "        [-16.60746  ,  13.730953 ],\n",
       "        [-11.124235 ,  12.050375 ]],\n",
       "\n",
       "       [[  3.0661376,   0.2588371],\n",
       "        [  2.5007033,  -1.0694524],\n",
       "        [  9.3545   ,  -7.942839 ],\n",
       "        ...,\n",
       "        [-14.385147 ,  13.394603 ],\n",
       "        [-13.780151 ,  13.476797 ],\n",
       "        [ -8.951697 ,  12.082172 ]],\n",
       "\n",
       "       [[  5.0751486,  -1.8907993],\n",
       "        [  8.291178 ,  -1.7700276],\n",
       "        [  4.982312 ,  -4.113515 ],\n",
       "        ...,\n",
       "        [-11.674446 ,  11.0067625],\n",
       "        [-11.894295 ,  11.16615  ],\n",
       "        [ -7.514249 ,   7.09422  ]]], dtype=float32)"
      ]
     },
     "execution_count": 106,
     "metadata": {},
     "output_type": "execute_result"
    }
   ],
   "source": [
    "ab_from_distr(out.detach())[0]"
   ]
  },
  {
   "cell_type": "code",
   "execution_count": 194,
   "metadata": {},
   "outputs": [],
   "source": [
    "w[118]=.05"
   ]
  },
  {
   "cell_type": "code",
   "execution_count": 164,
   "metadata": {},
   "outputs": [
    {
     "data": {
      "text/plain": [
       "array([[[77]]], dtype=int64)"
      ]
     },
     "execution_count": 164,
     "metadata": {},
     "output_type": "execute_result"
    }
   ],
   "source": []
  },
  {
   "cell_type": "code",
   "execution_count": 17,
   "metadata": {},
   "outputs": [],
   "source": [
    "from sklearn.utils import class_weight"
   ]
  },
  {
   "cell_type": "code",
   "execution_count": 32,
   "metadata": {},
   "outputs": [
    {
     "data": {
      "text/plain": [
       "(146,)"
      ]
     },
     "execution_count": 32,
     "metadata": {},
     "output_type": "execute_result"
    }
   ],
   "source": [
    "np.unique(AB).shape"
   ]
  },
  {
   "cell_type": "code",
   "execution_count": 24,
   "metadata": {},
   "outputs": [],
   "source": [
    "weights=class_weight.compute_class_weight('balanced',np.arange(150),AB)"
   ]
  },
  {
   "cell_type": "code",
   "execution_count": 16,
   "metadata": {},
   "outputs": [],
   "source": [
    "weights=torch.load('resources/class-weights-lab150-stl.pt')"
   ]
  },
  {
   "cell_type": "code",
   "execution_count": 22,
   "metadata": {},
   "outputs": [
    {
     "data": {
      "text/plain": [
       "[0.08356278844786694,\n",
       " 0.1678156032399931,\n",
       " 0.21558141187788094,\n",
       " 0.21994472054266462,\n",
       " 0.2334807648726726,\n",
       " 0.23386068969617232,\n",
       " 0.34010502363183265,\n",
       " 0.3589464371506111,\n",
       " 0.38303090820333946,\n",
       " 0.39670093899693454,\n",
       " 0.42392787447029295,\n",
       " 0.5304766097298999,\n",
       " 0.618776067401482,\n",
       " 0.641290257792432,\n",
       " 0.6457335715840165,\n",
       " 0.6589394023766639,\n",
       " 0.6679032927409837,\n",
       " 0.7407719808013131,\n",
       " 0.7685405509672976,\n",
       " 0.831555916068237,\n",
       " 0.8406595002868583,\n",
       " 0.9381244284686239,\n",
       " 1.0613968530682423,\n",
       " 1.0865089767924108,\n",
       " 1.176557475662064,\n",
       " 1.201972945810801,\n",
       " 1.383747046088028,\n",
       " 1.4606167014183264,\n",
       " 1.4660881728612558,\n",
       " 1.5460611201201666,\n",
       " 1.6192676111303796,\n",
       " 1.7198914079675085,\n",
       " 1.809695432024054,\n",
       " 1.9947535439236017,\n",
       " 2.0913267119726537,\n",
       " 2.257717013067561,\n",
       " 2.480688181756835,\n",
       " 2.584447286362549,\n",
       " 2.601767656831926,\n",
       " 2.854794884239485,\n",
       " 2.911365755622674,\n",
       " 3.108347765472298,\n",
       " 3.1824514359827947,\n",
       " 3.2703510609240407,\n",
       " 3.485451169912765,\n",
       " 3.5746157904126443,\n",
       " 3.6646028608151564,\n",
       " 3.8376222182726023,\n",
       " 3.8742598781692412,\n",
       " 3.878588443592531,\n",
       " 3.89723212840434,\n",
       " 3.902473472946277,\n",
       " 3.972601410423449,\n",
       " 4.209267234646897,\n",
       " 4.449689608588602,\n",
       " 4.6348203380957695,\n",
       " 5.105564334058425,\n",
       " 5.169840310599671,\n",
       " 5.233401294454506,\n",
       " 5.460266363315454,\n",
       " 5.570834841500554,\n",
       " 5.6006932333258685,\n",
       " 5.634311647756831,\n",
       " 5.837207480144755,\n",
       " 5.9108514393672245,\n",
       " 6.48469914225603,\n",
       " 6.616175019901733,\n",
       " 7.2265849055019915,\n",
       " 7.652766874326273,\n",
       " 7.930326540265556,\n",
       " 8.505420803867723,\n",
       " 8.593973916148746,\n",
       " 8.815682339600498,\n",
       " 9.08434956790553,\n",
       " 9.145399913337256,\n",
       " 9.31073698458119,\n",
       " 9.404008096915005,\n",
       " 9.614544635162654,\n",
       " 9.681039537302162,\n",
       " 9.79461460907717,\n",
       " 9.815514373677512,\n",
       " 9.930596415809097,\n",
       " 9.970144106964387,\n",
       " 10.30514910272648,\n",
       " 10.662390347814048,\n",
       " 10.704595860267789,\n",
       " 10.808045661421396,\n",
       " 11.156746837206175,\n",
       " 11.160718130568313,\n",
       " 11.75496426447538,\n",
       " 13.646063538535728,\n",
       " 15.534044854744076,\n",
       " 17.129922446023993,\n",
       " 17.98226963467625,\n",
       " 18.26859248687178,\n",
       " 18.30987396426763,\n",
       " 19.338048043360978,\n",
       " 19.78016179065507,\n",
       " 20.05047680960532,\n",
       " 20.871103117039567,\n",
       " 20.90955465279805,\n",
       " 25.08275243422905,\n",
       " 26.13647880640085,\n",
       " 27.20189267572885,\n",
       " 28.102288535772153,\n",
       " 30.144648635318617,\n",
       " 31.070302272318354,\n",
       " 31.34160101435759,\n",
       " 31.862760615919434,\n",
       " 32.759094244703014,\n",
       " 34.168641197115136,\n",
       " 35.46838723476646,\n",
       " 37.02701699365608,\n",
       " 39.95927437000771,\n",
       " 42.15045010790054,\n",
       " 42.29554987055233,\n",
       " 43.09118314717029,\n",
       " 44.82053768806482,\n",
       " 45.488545733048475,\n",
       " 46.924046352058696,\n",
       " 48.27490623952741,\n",
       " 48.593663279498436,\n",
       " 50.496944140366296,\n",
       " 51.96489975090753,\n",
       " 52.32124368670443,\n",
       " 58.78201349367619,\n",
       " 70.43793952167633,\n",
       " 77.11023337687482,\n",
       " 78.6899601991775,\n",
       " 79.0001708114564,\n",
       " 82.45418267061044,\n",
       " 99.58993968087141,\n",
       " 123.25126287400396,\n",
       " 125.69638629945086,\n",
       " 136.53895859051406,\n",
       " 141.7128635784267,\n",
       " 144.49083604712823,\n",
       " 150.87754604841933,\n",
       " 153.3061765020691,\n",
       " 155.40673937488438,\n",
       " 187.21533036843195,\n",
       " 192.1528207495018,\n",
       " 235.31558311716086,\n",
       " 241.58607305852968,\n",
       " 242.891199597927,\n",
       " 320.9001178727131,\n",
       " 339.7292929268496,\n",
       " 339.7292929268496,\n",
       " 339.7292929268496,\n",
       " 339.7292929268496]"
      ]
     },
     "execution_count": 22,
     "metadata": {},
     "output_type": "execute_result"
    }
   ],
   "source": [
    "sorted(np.clip(weights**1.1,0,2500))"
   ]
  },
  {
   "cell_type": "code",
   "execution_count": 185,
   "metadata": {},
   "outputs": [],
   "source": [
    "torch.save(np.clip(weights**1.1,0,2500),'resources/class-weights-lab150-stl.pt')"
   ]
  },
  {
   "cell_type": "code",
   "execution_count": 195,
   "metadata": {},
   "outputs": [],
   "source": [
    "torch.save(w,'resources/class-weights-lab150-stl.pt')"
   ]
  },
  {
   "cell_type": "code",
   "execution_count": 8,
   "metadata": {},
   "outputs": [],
   "source": [
    "flag=np.load('resources/labhistogram.npy')"
   ]
  },
  {
   "cell_type": "code",
   "execution_count": 17,
   "metadata": {},
   "outputs": [
    {
     "data": {
      "text/plain": [
       "array([2.01456378e+01, 7.97515529e+00, 8.70502766e+00, 1.40571014e+01,\n",
       "       5.52092106e+01, 2.00000000e+02, 2.00000000e+02, 8.62924854e+00,\n",
       "       5.47118834e+00, 3.42544536e+00, 7.47860572e+00, 1.32310958e+01,\n",
       "       5.31026741e+01, 1.43233987e+02, 1.47419917e+02, 2.00000000e+02,\n",
       "       3.41392690e+01, 7.00128900e+00, 2.28403092e+00, 1.87338305e+00,\n",
       "       3.44390496e+00, 7.60141772e+00, 2.66640499e+01, 3.53527185e+01,\n",
       "       8.73257554e+01, 1.16349606e+02, 1.19135862e+02, 2.32606193e+01,\n",
       "       1.40282865e+01, 3.69369008e+00, 1.07834459e+00, 1.34348669e+00,\n",
       "       3.18372678e+00, 7.87576450e+00, 2.99980431e+01, 5.29130777e+01,\n",
       "       7.95645177e+01, 4.78436408e+01, 1.46699622e+02, 1.89896985e+02,\n",
       "       3.21502004e+01, 1.58603745e+01, 7.43320681e+00, 1.63716270e+00,\n",
       "       6.67721145e-01, 1.18203827e+00, 3.42892439e+00, 1.07603129e+01,\n",
       "       2.56416971e+01, 3.65119139e+01, 4.05885982e+01, 5.19465105e+01,\n",
       "       6.55480109e+01, 8.09981809e+01, 9.03288773e+01, 2.85769578e+01,\n",
       "       7.23308511e+00, 4.97221751e+00, 1.15929449e+00, 4.31485863e-01,\n",
       "       7.61257188e-01, 2.80384618e+00, 7.95971638e+00, 1.58338574e+01,\n",
       "       2.38547265e+01, 3.17207016e+01, 3.39356251e+01, 3.06060761e+01,\n",
       "       9.70224889e+01, 2.00000000e+02, 9.82302653e+01, 1.87136829e+01,\n",
       "       8.08928983e+00, 2.93638548e+00, 8.45617676e-01, 1.97379537e-01,\n",
       "       3.93986642e-01, 1.71469471e+00, 4.50235810e+00, 8.95997689e+00,\n",
       "       1.52668603e+01, 2.07509459e+01, 1.47729093e+01, 3.00919066e+01,\n",
       "       9.19371815e+01, 3.30712350e+01, 2.27340969e+01, 1.21055899e+01,\n",
       "       5.57193896e+00, 2.09661038e+00, 6.46375679e-01, 1.04715688e-01,\n",
       "       2.52408061e-01, 9.43587595e-01, 2.37071697e+00, 4.81484826e+00,\n",
       "       8.33601402e+00, 1.50796327e+01, 2.21175272e+01, 2.47860321e+01,\n",
       "       9.56242031e+01, 3.62857788e+01, 1.94270310e+01, 6.03737680e+00,\n",
       "       1.05566292e+00, 5.61948584e-01, 4.58326028e-01, 2.47851814e-01,\n",
       "       2.66491171e-01, 6.92865143e-01, 1.54984998e+00, 2.59512935e+00,\n",
       "       4.78872398e+00, 7.67061164e+00, 1.38282662e+01, 2.29144882e+01,\n",
       "       8.96287625e+00, 6.56957593e+00, 6.84406414e-01, 2.66885360e-01,\n",
       "       3.75140263e-01, 6.71925683e-01, 1.41116703e+00, 2.38515621e+00,\n",
       "       3.25650495e+00, 5.02921312e+00, 8.06011450e+00, 8.59831304e+00,\n",
       "       4.17947426e-01, 8.54029439e-01, 1.48601857e+00, 2.86454842e+00,\n",
       "       3.39598415e+00, 3.88499668e+00, 4.67944546e+00, 7.87155829e-01,\n",
       "       1.95565671e+00, 3.11144931e+00, 4.76550959e+00, 4.03166518e+00,\n",
       "       3.44811532e+00, 1.41597188e+00, 4.45261937e+00, 6.36020844e+00,\n",
       "       7.06752415e+00, 3.50439966e+00, 2.64183783e+00, 7.82657162e+00,\n",
       "       9.39568540e+00, 4.40226457e+00])"
      ]
     },
     "execution_count": 17,
     "metadata": {},
     "output_type": "execute_result"
    }
   ],
   "source": [
    "weights"
   ]
  }
 ],
 "metadata": {
  "kernelspec": {
   "display_name": "Python 3",
   "language": "python",
   "name": "python3"
  },
  "language_info": {
   "codemirror_mode": {
    "name": "ipython",
    "version": 3
   },
   "file_extension": ".py",
   "mimetype": "text/x-python",
   "name": "python",
   "nbconvert_exporter": "python",
   "pygments_lexer": "ipython3",
   "version": "3.7.3"
  }
 },
 "nbformat": 4,
 "nbformat_minor": 2
}
