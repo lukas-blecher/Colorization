{
 "cells": [
  {
   "cell_type": "code",
   "execution_count": 22,
   "metadata": {},
   "outputs": [],
   "source": [
    "import torch\n",
    "import torch.nn as nn\n",
    "import torch.optim as optim\n",
    "import os\n",
    "import numpy as np\n",
    "from itertools import count\n",
    "#from models.unet import unet\n",
    "#from settings import s\n",
    "import time\n",
    "import torchvision.transforms as transforms\n",
    "import torchvision.datasets as datasets\n",
    "from torch.utils.data import dataloader\n",
    "import json\n",
    "from skimage import color\n",
    "import matplotlib.pyplot as plt\n",
    "from matplotlib import path\n",
    "from tqdm.auto import tqdm"
   ]
  },
  {
   "cell_type": "code",
   "execution_count": 5,
   "metadata": {},
   "outputs": [
    {
     "name": "stdout",
     "output_type": "stream",
     "text": [
      "Files already downloaded and verified\n"
     ]
    },
    {
     "name": "stderr",
     "output_type": "stream",
     "text": [
      "\r",
      "  0%|▏                                                               | 5537792/2640397119 [00:20<21:33, 2037005.58it/s]"
     ]
    }
   ],
   "source": [
    "trainset = datasets.STL10(root='../../stl-10', split='train+unlabeled',\n",
    "                                    download=True, transform=transforms.ToTensor())"
   ]
  },
  {
   "cell_type": "code",
   "execution_count": 8,
   "metadata": {},
   "outputs": [],
   "source": [
    "AB=[]"
   ]
  },
  {
   "cell_type": "code",
   "execution_count": 14,
   "metadata": {},
   "outputs": [
    {
     "data": {
      "application/vnd.jupyter.widget-view+json": {
       "model_id": "72fea275bf0c4fb3a0cd124a5e45be1b",
       "version_major": 2,
       "version_minor": 0
      },
      "text/plain": [
       "HBox(children=(IntProgress(value=0, max=10000), HTML(value='')))"
      ]
     },
     "metadata": {},
     "output_type": "display_data"
    }
   ],
   "source": [
    "order=np.random.permutation(len(trainset))\n",
    "for i in tqdm(range(10000)):\n",
    "    #image=trainloader.dataset.data[i]\n",
    "    try:\n",
    "        #image=plt.imread('places-test/Places365_val_%08d.jpg'%i)/255\n",
    "        image=trainset.data[order[i]]/255\n",
    "    except FileNotFoundError:\n",
    "        continue\n",
    "    labim=color.rgb2lab(image.transpose(1,2,0))\n",
    "    AB.extend(labim[:,:,1:].reshape(-1,2).tolist())\n",
    "    #used_bins=dist_mat(bins,labim[:,:,1:].reshape(-1,2)).argmin(0)\n",
    "    #for j in range(len(used_b"
   ]
  },
  {
   "cell_type": "code",
   "execution_count": 15,
   "metadata": {},
   "outputs": [],
   "source": [
    "ab=np.array(AB)"
   ]
  },
  {
   "cell_type": "code",
   "execution_count": 16,
   "metadata": {},
   "outputs": [
    {
     "data": {
      "text/plain": [
       "(92160000, 2)"
      ]
     },
     "execution_count": 16,
     "metadata": {},
     "output_type": "execute_result"
    }
   ],
   "source": [
    "ab.shape"
   ]
  },
  {
   "cell_type": "code",
   "execution_count": 17,
   "metadata": {},
   "outputs": [],
   "source": [
    "bincount=22\n",
    "H,xe,ye=np.histogram2d(ab[:,0],ab[:,1],bincount)"
   ]
  },
  {
   "cell_type": "code",
   "execution_count": 18,
   "metadata": {},
   "outputs": [
    {
     "name": "stderr",
     "output_type": "stream",
     "text": [
      "C:\\Users\\user\\AppData\\Local\\Continuum\\anaconda3\\lib\\site-packages\\ipykernel_launcher.py:1: RuntimeWarning: divide by zero encountered in log\n",
      "  \"\"\"Entry point for launching an IPython kernel.\n"
     ]
    },
    {
     "data": {
      "text/plain": [
       "<matplotlib.image.AxesImage at 0x21b7c0780b8>"
      ]
     },
     "execution_count": 18,
     "metadata": {},
     "output_type": "execute_result"
    },
    {
     "data": {
      "image/png": "[encoded data removed]",
      "text/plain": [
       "<Figure size 432x288 with 1 Axes>"
      ]
     },
     "metadata": {
      "needs_background": "light"
     },
     "output_type": "display_data"
    }
   ],
   "source": [
    "plt.imshow((np.log(H)),extent=(xe.min(),xe.max(),ye.min(),ye.max()),cmap='hot')\n",
    "#plt.scatter(*ab[np.random.permutation(len(ab))][:6000].T,s=1)\n"
   ]
  },
  {
   "cell_type": "code",
   "execution_count": 22,
   "metadata": {},
   "outputs": [
    {
     "data": {
      "text/plain": [
       "(340,)"
      ]
     },
     "execution_count": 22,
     "metadata": {},
     "output_type": "execute_result"
    }
   ],
   "source": [
    "H[H>0].shape"
   ]
  },
  {
   "cell_type": "code",
   "execution_count": 23,
   "metadata": {},
   "outputs": [],
   "source": [
    "numbin=340\n",
    "Hpr=np.zeros_like(H)\n",
    "thres=np.sort(H.flatten())[::-1][numbin]\n",
    "Hpr[H>thres]=H[H>thres]"
   ]
  },
  {
   "cell_type": "code",
   "execution_count": 24,
   "metadata": {},
   "outputs": [
    {
     "name": "stderr",
     "output_type": "stream",
     "text": [
      "C:\\Users\\user\\AppData\\Local\\Continuum\\anaconda3\\lib\\site-packages\\ipykernel_launcher.py:1: RuntimeWarning: divide by zero encountered in log\n",
      "  \"\"\"Entry point for launching an IPython kernel.\n"
     ]
    },
    {
     "data": {
      "image/png": "[encoded data removed]",
      "text/plain": [
       "<Figure size 432x288 with 2 Axes>"
      ]
     },
     "metadata": {
      "needs_background": "light"
     },
     "output_type": "display_data"
    }
   ],
   "source": [
    "plt.imshow((np.log(Hpr)/np.log(10)),extent=(xe.min(),xe.max(),ye.min(),ye.max()),cmap='hot')\n",
    "#plt.scatter(*ab[np.random.permutation(len(ab))][:6000].T,s=1)\n",
    "plt.colorbar()\n",
    "plt.xlabel('a')\n",
    "plt.ylabel('b')\n",
    "plt.savefig('../figures/binfrequency_bigLab.pdf')"
   ]
  },
  {
   "cell_type": "code",
   "execution_count": 25,
   "metadata": {},
   "outputs": [
    {
     "data": {
      "text/plain": [
       "array([7.44759023, 8.95765488])"
      ]
     },
     "execution_count": 25,
     "metadata": {},
     "output_type": "execute_result"
    }
   ],
   "source": [
    "binsize=np.array([np.gradient(xe).mean(),np.gradient(ye).mean()])\n",
    "binsize"
   ]
  },
  {
   "cell_type": "code",
   "execution_count": 26,
   "metadata": {},
   "outputs": [],
   "source": [
    "def ind2ab(ind):\n",
    "    x0=np.array([xe[0],ye[0]])\n",
    "    return x0+ind*binsize#+binsize/2"
   ]
  },
  {
   "cell_type": "code",
   "execution_count": 27,
   "metadata": {},
   "outputs": [
    {
     "name": "stderr",
     "output_type": "stream",
     "text": [
      "C:\\Users\\user\\AppData\\Local\\Continuum\\anaconda3\\lib\\site-packages\\ipykernel_launcher.py:2: FutureWarning: arrays to stack must be passed as a \"sequence\" type such as list or tuple. Support for non-sequence iterables such as generators is deprecated as of NumPy 1.16 and will raise an error in the future.\n",
      "  \n"
     ]
    }
   ],
   "source": [
    "x=np.arange(0,bincount)\n",
    "coord=np.vstack(map(np.ravel, np.meshgrid(x,x))).T"
   ]
  },
  {
   "cell_type": "code",
   "execution_count": 28,
   "metadata": {},
   "outputs": [],
   "source": [
    "Habfull=ind2ab(coord).reshape(bincount,bincount,2)\n",
    "Hab=np.zeros_like(Habfull)\n",
    "Hab[H>thres]=Habfull[H>thres]\n",
    "bins=Hab[Hab!=np.zeros(2)].reshape(-1,2)"
   ]
  },
  {
   "cell_type": "code",
   "execution_count": 30,
   "metadata": {},
   "outputs": [],
   "source": [
    "torch.save(torch.from_numpy(bins),'../resources/biglab_bins.pt')"
   ]
  },
  {
   "cell_type": "code",
   "execution_count": 33,
   "metadata": {},
   "outputs": [],
   "source": [
    "vflag=H>thres\n",
    "np.save('../resources/biglabhistogram.npy',vflag)"
   ]
  },
  {
   "cell_type": "code",
   "execution_count": 23,
   "metadata": {},
   "outputs": [],
   "source": [
    "vflag=np.load('../resources/biglabhistogram.npy')"
   ]
  },
  {
   "cell_type": "code",
   "execution_count": 62,
   "metadata": {},
   "outputs": [
    {
     "data": {
      "text/plain": [
       "((22, 22), (22,), (22, 22))"
      ]
     },
     "execution_count": 62,
     "metadata": {},
     "output_type": "execute_result"
    }
   ],
   "source": [
    "H.shape,x.shape,vflag.shape"
   ]
  },
  {
   "cell_type": "code",
   "execution_count": 34,
   "metadata": {},
   "outputs": [
    {
     "data": {
      "image/png": "[encoded data removed]",
      "text/plain": [
       "<Figure size 432x288 with 1 Axes>"
      ]
     },
     "metadata": {
      "needs_background": "light"
     },
     "output_type": "display_data"
    }
   ],
   "source": [
    "from skimage.transform import pyramid_expand\n",
    "#plt.figure(figsize=(6,6))\n",
    "L=np.ones((len(x),len(x),1))*50\n",
    "labspace=np.concatenate((L,Hab),axis=2)#.transpose(2,1,0)\n",
    "\n",
    "labspace_w=np.ones_like(labspace)*np.array([100,0,0]).reshape(1,1,3)\n",
    "labspace_w[vflag.reshape(len(x),len(x))]=labspace[vflag.reshape(len(x),len(x))]\n",
    "rgbrep=color.lab2rgb(labspace_w)\n",
    "plt.imshow(rgbrep,extent=(xe.min(),xe.max(),ye.min(),ye.max()))\n",
    "\n",
    "plt.xlabel('a')\n",
    "plt.ylabel('b')\n",
    "#plt.title('Bin colors in ab-space $(L=%i)$'%L.flatten()[0])\n",
    "#plt.savefig('figures/labgamut-bins.pdf')\n",
    "bins=labspace[vflag.reshape(len(x),len(x))][:,1:]\n",
    "for i in range(len(bins)):\n",
    "    ...#plt.text(bins[i][0],bins[i][1],i)\n",
    "#plt.scatter(*bins.T)\n",
    "plt.savefig('../figures/bincolors_biglab.pdf')\n",
    "plt.show()"
   ]
  },
  {
   "cell_type": "code",
   "execution_count": 24,
   "metadata": {},
   "outputs": [],
   "source": [
    "class_weight_path = '../resources/probdist_biglab.pt'\n",
    "weight_lambda=.25\n",
    "prob_dict = torch.load(class_weight_path)\n",
    "prob = np.array(list(prob_dict.values()))\n",
    "weights = 1/((1 - weight_lambda)*prob/prob.sum() + weight_lambda/150)"
   ]
  },
  {
   "cell_type": "code",
   "execution_count": 25,
   "metadata": {},
   "outputs": [
    {
     "data": {
      "text/plain": [
       "[<matplotlib.lines.Line2D at 0x2a91b7f1b38>]"
      ]
     },
     "execution_count": 25,
     "metadata": {},
     "output_type": "execute_result"
    },
    {
     "data": {
      "image/png": "[encoded data removed]",
      "text/plain": [
       "<Figure size 432x288 with 1 Axes>"
      ]
     },
     "metadata": {
      "needs_background": "light"
     },
     "output_type": "display_data"
    }
   ],
   "source": [
    "plt.plot(weights)"
   ]
  },
  {
   "cell_type": "code",
   "execution_count": 30,
   "metadata": {},
   "outputs": [
    {
     "data": {
      "text/plain": [
       "[<matplotlib.lines.Line2D at 0x2a91b816320>]"
      ]
     },
     "execution_count": 30,
     "metadata": {},
     "output_type": "execute_result"
    },
    {
     "data": {
      "image/png": "[encoded data removed]",
      "text/plain": [
       "<Figure size 432x288 with 1 Axes>"
      ]
     },
     "metadata": {
      "needs_background": "light"
     },
     "output_type": "display_data"
    }
   ],
   "source": [
    "plt.plot(prob)"
   ]
  },
  {
   "cell_type": "code",
   "execution_count": 35,
   "metadata": {},
   "outputs": [
    {
     "name": "stderr",
     "output_type": "stream",
     "text": [
      "C:\\Users\\user\\AppData\\Local\\Continuum\\anaconda3\\lib\\site-packages\\ipykernel_launcher.py:4: RuntimeWarning: divide by zero encountered in log\n",
      "  after removing the cwd from sys.path.\n"
     ]
    },
    {
     "data": {
      "text/plain": [
       "Text(0, 0.5, 'b')"
      ]
     },
     "execution_count": 35,
     "metadata": {},
     "output_type": "execute_result"
    },
    {
     "data": {
      "image/png": "[encoded data removed]",
      "text/plain": [
       "<Figure size 432x288 with 2 Axes>"
      ]
     },
     "metadata": {
      "needs_background": "light"
     },
     "output_type": "display_data"
    }
   ],
   "source": [
    "W=np.zeros((22,22))\n",
    "W[vflag]=prob#weights\n",
    "#plt.figure(figsize=(6,6))\n",
    "plt.imshow(np.log(W)/np.log(10))#,extent=(xe.min(),xe.max(),ye.min(),ye.max()))\n",
    "plt.colorbar()\n",
    "plt.xlabel('a')\n",
    "plt.ylabel('b')"
   ]
  },
  {
   "cell_type": "code",
   "execution_count": null,
   "metadata": {},
   "outputs": [],
   "source": []
  },
  {
   "cell_type": "markdown",
   "metadata": {},
   "source": [
    "abc=bins[3]\n",
    "plt.imshow(color.yuv2rgb(np.array([.70,abc[0],abc[1]]).reshape(1,1,3)))"
   ]
  },
  {
   "cell_type": "code",
   "execution_count": 22,
   "metadata": {},
   "outputs": [],
   "source": [
    "from importlib import reload\n",
    "import functions\n",
    "reload(functions)\n",
    "ab2bins=functions.ab2bins"
   ]
  },
  {
   "cell_type": "code",
   "execution_count": 23,
   "metadata": {},
   "outputs": [
    {
     "name": "stdout",
     "output_type": "stream",
     "text": [
      "Files already downloaded and verified\n"
     ]
    }
   ],
   "source": [
    "trainset = datasets.CIFAR10(root='./cifar-10', train=True,\n",
    "                                    download=True, transform=transforms.ToTensor())\n",
    "im=plt.imread('places-small/Places365_val_00000417.jpg')/255\n"
   ]
  },
  {
   "cell_type": "code",
   "execution_count": 248,
   "metadata": {},
   "outputs": [],
   "source": []
  },
  {
   "cell_type": "code",
   "execution_count": 24,
   "metadata": {},
   "outputs": [],
   "source": [
    "from sklearn.utils import class_weight"
   ]
  },
  {
   "cell_type": "code",
   "execution_count": null,
   "metadata": {},
   "outputs": [],
   "source": []
  },
  {
   "cell_type": "code",
   "execution_count": 72,
   "metadata": {},
   "outputs": [],
   "source": [
    "count=ab2bins(ab[np.random.permutation(len(ab))[:2000000]],bins[None,...])"
   ]
  },
  {
   "cell_type": "code",
   "execution_count": 73,
   "metadata": {},
   "outputs": [
    {
     "data": {
      "text/plain": [
       "(150,)"
      ]
     },
     "execution_count": 73,
     "metadata": {},
     "output_type": "execute_result"
    }
   ],
   "source": [
    "np.unique(count).shape"
   ]
  },
  {
   "cell_type": "code",
   "execution_count": 74,
   "metadata": {},
   "outputs": [],
   "source": [
    "weights=class_weight.compute_class_weight('balanced',np.arange(numbin),count.flatten())"
   ]
  },
  {
   "cell_type": "code",
   "execution_count": 113,
   "metadata": {},
   "outputs": [],
   "source": [
    "torch.save(torch.from_numpy(weights),'resources/class-weights-lab150.pt')"
   ]
  },
  {
   "cell_type": "code",
   "execution_count": 84,
   "metadata": {},
   "outputs": [],
   "source": [
    "weights=torch.load('resources/class-weights-lab150.pt').numpy()"
   ]
  },
  {
   "cell_type": "code",
   "execution_count": 95,
   "metadata": {},
   "outputs": [],
   "source": [
    "#weights[weights>13333]=1e4/3"
   ]
  },
  {
   "cell_type": "code",
   "execution_count": 111,
   "metadata": {},
   "outputs": [
    {
     "name": "stderr",
     "output_type": "stream",
     "text": [
      "C:\\Users\\user\\AppData\\Local\\Continuum\\anaconda3\\lib\\site-packages\\ipykernel_launcher.py:4: RuntimeWarning: divide by zero encountered in log\n",
      "  after removing the cwd from sys.path.\n"
     ]
    },
    {
     "data": {
      "text/plain": [
       "Text(0, 0.5, 'b')"
      ]
     },
     "execution_count": 111,
     "metadata": {},
     "output_type": "execute_result"
    },
    {
     "data": {
      "image/png": "[encoded data removed]",
      "text/plain": [
       "<Figure size 432x432 with 2 Axes>"
      ]
     },
     "metadata": {
      "needs_background": "light"
     },
     "output_type": "display_data"
    }
   ],
   "source": [
    "W=np.zeros_like(H)\n",
    "W[vflag]=weights\n",
    "plt.figure(figsize=(6,6))\n",
    "plt.imshow(np.log(W)/np.log(10),extent=(xe.min(),xe.max(),ye.min(),ye.max()))\n",
    "plt.colorbar()\n",
    "plt.xlabel('a')\n",
    "plt.ylabel('b')\n",
    "#plt.savefig('figures/150labweights.pdf')"
   ]
  },
  {
   "cell_type": "code",
   "execution_count": 3,
   "metadata": {},
   "outputs": [],
   "source": [
    "def distanceSquaredMatrix(A,B):\n",
    "    return np.sum(np.square(A[:,None]-B),axis=2)\n",
    "def K(X1,X2,sig=5):\n",
    "    dist=distanceSquaredMatrix(X1,X2)\n",
    "    kernel=np.zeros(dist.shape)\n",
    "    cutoff=2*sig*np.log(10) #0 when kernel function would be smaller than 0.01\n",
    "    kernel[dist<cutoff]=np.exp(-dist[dist<cutoff]/(2*sig))\n",
    "    return kernel"
   ]
  },
  {
   "cell_type": "code",
   "execution_count": 2,
   "metadata": {},
   "outputs": [],
   "source": [
    "bins=torch.load('../resources/biglab_bins.pt').numpy()"
   ]
  },
  {
   "cell_type": "code",
   "execution_count": 17,
   "metadata": {},
   "outputs": [],
   "source": [
    "soft=(K(bins,bins,28))"
   ]
  },
  {
   "cell_type": "code",
   "execution_count": 19,
   "metadata": {},
   "outputs": [
    {
     "data": {
      "text/plain": [
       "4.729411764705882"
      ]
     },
     "execution_count": 19,
     "metadata": {},
     "output_type": "execute_result"
    }
   ],
   "source": [
    "np.count_nonzero(soft,1).mean()"
   ]
  },
  {
   "cell_type": "code",
   "execution_count": 21,
   "metadata": {},
   "outputs": [],
   "source": [
    "torch.save(torch.from_numpy(soft),'../resources/smooth_onehot340.pt')"
   ]
  },
  {
   "cell_type": "code",
   "execution_count": null,
   "metadata": {},
   "outputs": [],
   "source": []
  }
 ],
 "metadata": {
  "kernelspec": {
   "display_name": "Python 3",
   "language": "python",
   "name": "python3"
  },
  "language_info": {
   "codemirror_mode": {
    "name": "ipython",
    "version": 3
   },
   "file_extension": ".py",
   "mimetype": "text/x-python",
   "name": "python",
   "nbconvert_exporter": "python",
   "pygments_lexer": "ipython3",
   "version": "3.7.3"
  }
 },
 "nbformat": 4,
 "nbformat_minor": 2
}
